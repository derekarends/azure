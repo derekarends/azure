{
 "cells": [
  {
   "cell_type": "code",
   "execution_count": 6,
   "metadata": {},
   "outputs": [],
   "source": [
    "# pip install azure-ai-translation-text\n",
    "\n",
    "import os\n",
    "from azure.core.credentials import AzureKeyCredential\n",
    "from azure.ai.translation.text import TextTranslationClient\n",
    "from azure.ai.translation.text.models import InputTextItem\n",
    "from dotenv import load_dotenv\n",
    "load_dotenv()\n",
    "\n",
    "endpoint = os.environ[\"AZURE_AI_SERVICES_URL\"]\n",
    "key = os.environ[\"AZURE_AI_SERVICES_KEY\"]\n",
    "\n",
    "credential = AzureKeyCredential(key)\n",
    "client = TextTranslationClient(credential=credential, endpoint=endpoint)"
   ]
  },
  {
   "cell_type": "markdown",
   "metadata": {},
   "source": [
    "## Translate Text Input"
   ]
  },
  {
   "cell_type": "code",
   "execution_count": 7,
   "metadata": {},
   "outputs": [
    {
     "name": "stdout",
     "output_type": "stream",
     "text": [
      "'Hello world, how are you doing today?' was translated from en to es as: 'Hola mundo, ¿cómo estáis hoy?'.\n",
      "'Hello world, how are you doing today?' was translated from en to fr as: 'Bonjour tout le monde, comment allez-vous aujourd’hui ?'.\n",
      "'Hello world, how are you doing today?' was translated from en to de as: 'Hallo Welt, wie geht es dir heute?'.\n"
     ]
    }
   ],
   "source": [
    "inputText = \"Hello world, how are you doing today?\"\n",
    "\n",
    "input_text_elements = [InputTextItem(text=inputText)]\n",
    "translationResponse = client.translate(content=input_text_elements, to=['es', 'fr', 'de'])\n",
    "translations = translationResponse if translationResponse else None\n",
    "for translation in translations:\n",
    "    sourceLanguage = translation.detected_language\n",
    "    for translated_text in translation.translations:\n",
    "        print(f\"'{inputText}' was translated from {sourceLanguage.language} to {translated_text.to} as: '{translated_text.text}'.\")"
   ]
  },
  {
   "cell_type": "markdown",
   "metadata": {},
   "source": [
    "## Read From Image and Translate"
   ]
  },
  {
   "cell_type": "code",
   "execution_count": 8,
   "metadata": {},
   "outputs": [
    {
     "name": "stdout",
     "output_type": "stream",
     "text": [
      "Word: PELIGRO Confidence: 0.985\n",
      "Word: PERSONAL Confidence: 0.99\n",
      "Word: SIN Confidence: 0.994\n",
      "Word: AUTORIZACIÓN Confidence: 0.878\n",
      "Word: MANTENERSE Confidence: 0.994\n",
      "Word: FUERA Confidence: 0.998\n"
     ]
    },
    {
     "name": "stderr",
     "output_type": "stream",
     "text": [
      "2024-04-14 20:19:40.358 Python[82526:3252326] WARNING: Secure coding is not enabled for restorable state! Enable secure coding by implementing NSApplicationDelegate.applicationSupportsSecureRestorableState: and returning YES.\n"
     ]
    },
    {
     "name": "stdout",
     "output_type": "stream",
     "text": [
      "'PELIGRO PERSONAL SIN AUTORIZACIÓN MANTENERSE FUERA' was translated from es to en as: 'UNAUTHORIZED PERSONAL DANGER STAYING OUT'.\n"
     ]
    },
    {
     "ename": "",
     "evalue": "",
     "output_type": "error",
     "traceback": [
      "\u001b[1;31mThe Kernel crashed while executing code in the current cell or a previous cell. \n",
      "\u001b[1;31mPlease review the code in the cell(s) to identify a possible cause of the failure. \n",
      "\u001b[1;31mClick <a href='https://aka.ms/vscodeJupyterKernelCrash'>here</a> for more info. \n",
      "\u001b[1;31mView Jupyter <a href='command:jupyter.viewOutput'>log</a> for further details."
     ]
    }
   ],
   "source": [
    "import cv2\n",
    "from azure.core.credentials import AzureKeyCredential\n",
    "from azure.ai.vision.imageanalysis import ImageAnalysisClient\n",
    "from azure.ai.vision.imageanalysis.models import VisualFeatures\n",
    "\n",
    "image_path = \"../images/SpanishSign.png\"\n",
    "with open(image_path, \"rb\") as image_file:\n",
    "    file_bytes = image_file.read()\n",
    "\n",
    "img_client = ImageAnalysisClient(endpoint=endpoint, credential=AzureKeyCredential(key))\n",
    "result = img_client.analyze(\n",
    "    image_data=file_bytes,\n",
    "    visual_features=[VisualFeatures.READ],\n",
    ")\n",
    "\n",
    "image = cv2.imread(image_path)\n",
    "words_to_translate = []\n",
    "for block in result.read.blocks:\n",
    "    for line in block.lines:\n",
    "        line_box = line['boundingPolygon']\n",
    "        top_left = (line_box[0]['x'], line_box[0]['y'])\n",
    "        bottom_right = (line_box[2]['x'], line_box[2]['y'])\n",
    "        cv2.rectangle(\n",
    "            image,\n",
    "            top_left,\n",
    "            bottom_right,\n",
    "            (0, 0, 255), 2\n",
    "        )\n",
    "        for word in line.words:\n",
    "            word_box = word['boundingPolygon']\n",
    "            top_left = (word_box[0]['x'], word_box[0]['y'])\n",
    "            bottom_right = (word_box[2]['x'], word_box[2]['y'])\n",
    "            cv2.rectangle(\n",
    "                image,\n",
    "                top_left,\n",
    "                bottom_right,\n",
    "                (0, 255, 0), 2\n",
    "            )\n",
    "            print(f\"Word: {word['text']} Confidence: {word['confidence']}\")\n",
    "            words_to_translate.append(word['text'])\n",
    "\n",
    "cv2.imshow('Image with Bounding Box', image)\n",
    "cv2.waitKey(0)\n",
    "cv2.destroyAllWindows()\n",
    "\n",
    "if words_to_translate:\n",
    "    words = \" \".join(words_to_translate)\n",
    "    input_text_elements = [InputTextItem(text=words)]\n",
    "    translationResponse = client.translate(content=input_text_elements, to=['en'])\n",
    "    translation = translationResponse[0] if translationResponse else None\n",
    "    if translation:\n",
    "        sourceLanguage = translation.detected_language\n",
    "        for translated_text in translation.translations:\n",
    "            print(f\"'{words}' was translated from {sourceLanguage.language} to {translated_text.to} as: '{translated_text.text}'.\")"
   ]
  }
 ],
 "metadata": {
  "kernelspec": {
   "display_name": ".venv",
   "language": "python",
   "name": "python3"
  },
  "language_info": {
   "codemirror_mode": {
    "name": "ipython",
    "version": 3
   },
   "file_extension": ".py",
   "mimetype": "text/x-python",
   "name": "python",
   "nbconvert_exporter": "python",
   "pygments_lexer": "ipython3",
   "version": "3.12.0"
  }
 },
 "nbformat": 4,
 "nbformat_minor": 2
}
