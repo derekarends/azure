{
 "cells": [
  {
   "cell_type": "code",
   "execution_count": null,
   "metadata": {},
   "outputs": [],
   "source": [
    "# pip install azure-cognitiveservices-speech\n",
    "\n",
    "import os\n",
    "import azure.cognitiveservices.speech as speech_sdk\n",
    "from dotenv import load_dotenv\n",
    "load_dotenv()\n",
    "\n",
    "key = os.environ[\"AZURE_AI_SERVICES_KEY\"]\n",
    "region = os.environ[\"AZURE_AI_SERVICES_REGION\"]"
   ]
  },
  {
   "cell_type": "markdown",
   "metadata": {},
   "source": [
    "## Configure translation"
   ]
  },
  {
   "cell_type": "code",
   "execution_count": 4,
   "metadata": {},
   "outputs": [
    {
     "name": "stdout",
     "output_type": "stream",
     "text": [
      "Ready to translate from en-US\n"
     ]
    }
   ],
   "source": [
    "translation_config = speech_sdk.translation.SpeechTranslationConfig(subscription=key, region=region)\n",
    "translation_config.speech_recognition_language = 'en-US'\n",
    "translation_config.add_target_language('fr')\n",
    "translation_config.add_target_language('es')\n",
    "translation_config.add_target_language('de')\n",
    "print('Ready to translate from', translation_config.speech_recognition_language)"
   ]
  },
  {
   "cell_type": "markdown",
   "metadata": {},
   "source": [
    "## Run Translator"
   ]
  },
  {
   "cell_type": "code",
   "execution_count": 5,
   "metadata": {},
   "outputs": [
    {
     "name": "stdout",
     "output_type": "stream",
     "text": [
      "Speak now...\n",
      "Translating \"Hey everyone, how are you doing tonight? Hope everyone is doing well.\"\n",
      "Salut tout le monde, comment allez-vous ce soir ? J’espère que tout le monde va bien.\n",
      "Hola a todos, ¿cómo estáis esta noche? Espero que todos estén bien.\n",
      "Hallo zusammen, wie geht es euch heute Abend? Ich hoffe, es geht allen gut.\n"
     ]
    }
   ],
   "source": [
    "# Translate speech\n",
    "audio_config = speech_sdk.AudioConfig(use_default_microphone=True)\n",
    "translator = speech_sdk.translation.TranslationRecognizer(translation_config, audio_config = audio_config)\n",
    "print(\"Speak now...\")\n",
    "result = translator.recognize_once_async().get()\n",
    "print('Translating \"{}\"'.format(result.text))\n",
    "translation = result.translations['fr']\n",
    "print(translation)\n",
    "translation = result.translations['es']\n",
    "print(translation)\n",
    "translation = result.translations['de']\n",
    "print(translation)"
   ]
  }
 ],
 "metadata": {
  "kernelspec": {
   "display_name": ".venv",
   "language": "python",
   "name": "python3"
  },
  "language_info": {
   "codemirror_mode": {
    "name": "ipython",
    "version": 3
   },
   "file_extension": ".py",
   "mimetype": "text/x-python",
   "name": "python",
   "nbconvert_exporter": "python",
   "pygments_lexer": "ipython3",
   "version": "3.12.0"
  }
 },
 "nbformat": 4,
 "nbformat_minor": 2
}
